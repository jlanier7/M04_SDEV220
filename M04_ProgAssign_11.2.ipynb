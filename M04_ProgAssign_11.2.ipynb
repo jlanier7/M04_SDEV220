{
 "cells": [
  {
   "cell_type": "markdown",
   "metadata": {},
   "source": [
    "--------------------------------------------------------------------------------------------------------------------------------------------------\n",
    "# Program Name: Book Thing To Do 11.2 - 'Zoo' import and hours() function call  \n",
    "  \n",
    "# Author: Josh Lanier   \n",
    "  \n",
    "## SDEV 220  \n",
    "  \n",
    "## 11/19/22  \n",
    "  \n",
    "Program Purpose: To demonstrate knowledge and proper execution of a module import and a function call from that module.\n",
    "  \n",
    "imports:\n",
    "\n",
    "- zoo:       a module with hours() function, which prints the hours of the zoo\n",
    "\n",
    "Variables:   \n",
    "    \n",
    "- hours:     (variable) holds the action executed by zoo module *hours()* function, and prints the string for the zoo's hours when executed by itself in the interpreter\n",
    "      \n",
    "--------------------------------------------------------------------------------------------------------------------------------------------------"
   ]
  },
  {
   "cell_type": "code",
   "execution_count": 3,
   "metadata": {},
   "outputs": [
    {
     "name": "stdout",
     "output_type": "stream",
     "text": [
      "Open 9-5 daily\n"
     ]
    }
   ],
   "source": [
    "import zoo as menagerie\n",
    "\n",
    "hours = menagerie.hours()\n",
    "\n",
    "hours"
   ]
  }
 ],
 "metadata": {
  "kernelspec": {
   "display_name": "Python 3.10.0 64-bit",
   "language": "python",
   "name": "python3"
  },
  "language_info": {
   "codemirror_mode": {
    "name": "ipython",
    "version": 3
   },
   "file_extension": ".py",
   "mimetype": "text/x-python",
   "name": "python",
   "nbconvert_exporter": "python",
   "pygments_lexer": "ipython3",
   "version": "3.10.0"
  },
  "orig_nbformat": 4,
  "vscode": {
   "interpreter": {
    "hash": "467e873f0dda9fd3960b72e40a604d87a4a1ce3947ca6ed6991fc2cd958f247d"
   }
  }
 },
 "nbformat": 4,
 "nbformat_minor": 2
}
