{
 "cells": [
  {
   "cell_type": "markdown",
   "metadata": {},
   "source": [
    "--------------------------------------------------------------------------------------------------------------------------------------------------\n",
    "# Program Name: Book Thing To Do 16.4 - books.db Creation\n",
    "  \n",
    "# Author: Josh Lanier   \n",
    "  \n",
    "## SDEV 220  \n",
    "  \n",
    "## 11/19/22  \n",
    "  \n",
    "Program Purpose: To create a SQLite Database called 'books.db', create a Table in it called 'books', and then insert some records into the table.\n",
    "  \n",
    "1. Imports\n",
    "\n",
    "    - sqlite3 as sq  \n",
    "  </br>\n",
    "2. Constants and variables:   \n",
    "    \n",
    "    INITIALIZED:\n",
    "\n",
    "    - booksdb   (Connection object)     the connection object that creates the 'books.db' file\n",
    "    - booksQuery(Cursor object)         the cursor object that query methods can be called against for 'books.db'\n",
    "\n",
    "    IN-LINE:\n",
    "\n",
    "    - response  (string)                response from user input for whether to delete old table, if it is yes, table is deleted\n",
    "    - ins       (string)                in function 'insert()': the string portion minus the values for the query in the line beneath it\n",
    "    - rows      (Cursor object method)  executes the fetchall() method for the booksQuery Cursor object to print in the next line\n",
    "    \n",
    "    <br>\n",
    "3. Inputs\n",
    "\n",
    "    - user determines if they would like to delete the table: yes deletes table, no passes and program will produce error because table is \n",
    "            already created  \n",
    "            <br>\n",
    "4. Computations (pseudocode)\n",
    "\n",
    "    import labraries\n",
    "\n",
    "    connect to and create new database 'books.db'\n",
    "    create cursor object to query database 'books.db'\n",
    "\n",
    "    user input for whether table 'books' is to deleted\n",
    "        if yes delete table\n",
    "\n",
    "    create new table 'books' in database 'books.db'\n",
    "\n",
    "    define function 'insert()' to abstract insertion of records into table\n",
    "        define variable to hold string for first part of query\n",
    "        execute INSERT query for values passed to it by function paramters\n",
    "        if 'conf' parameter is True, print insertion confirmation message\n",
    "\n",
    "    insert multiple records into table 'books'\n",
    "\n",
    "    execute select all from books query \n",
    "    execute method to gather results\n",
    "    print results\n",
    "\n",
    "    commit changes to database\n",
    "\n",
    "    close Cursor object  \n",
    "    close database connection\n",
    "\n",
    "5. Outputs   \n",
    "\n",
    "    - if user elected to delete table, confirmation message is printed\n",
    "    - table creation confirmation message\n",
    "    - if function insert() parameter 'conf' is set to True, insertion confirmation message is printed\n",
    "    - print results from <line 88> select all from 'books' table query\n",
    "    <br>\n",
    "--------------------------------------------------------------------------------------------------------------------------------------------------"
   ]
  },
  {
   "cell_type": "code",
   "execution_count": 1,
   "metadata": {},
   "outputs": [
    {
     "name": "stdout",
     "output_type": "stream",
     "text": [
      "TABLE books dropped\n",
      "TABLE books created\n"
     ]
    }
   ],
   "source": [
    "# importing libraries\n",
    "\n",
    "import sqlite3 as sq\n",
    "\n",
    "# initializing variables\n",
    "\n",
    "booksdb = sq.connect('books.db')\n",
    "booksQuery = booksdb.cursor()\n",
    "\n",
    "# table creation\n",
    "\n",
    "#       error will raise if creation of new table is attempted without deleting already existing 'books' table\n",
    "#       giving user the option to delete table allows to bypass that for this application\n",
    "response = input(\"TABLE books already exists, would you like to delete the table 'books', so you can create it again? (yes or no) \")\n",
    "if response.lower() == 'yes':\n",
    "    booksQuery.execute('DROP TABLE IF EXISTS books')\n",
    "    print('TABLE books dropped')\n",
    "\n",
    "booksQuery.execute('''CREATE TABLE books\n",
    "(title VARCHAR (100),\n",
    "author VARCHAR (50),\n",
    "year INT,\n",
    "CONSTRAINT compositekey PRIMARY KEY (title, author))\n",
    "''')\n",
    "print('TABLE books created')"
   ]
  },
  {
   "cell_type": "code",
   "execution_count": 2,
   "metadata": {},
   "outputs": [
    {
     "name": "stdout",
     "output_type": "stream",
     "text": [
      "Inserted values for title=The Weirdstone of Brisingamen, author=Alan Garner, year=1960\n",
      "Inserted values for title=Perdido Street Station, author=China Miéville, year=2000\n",
      "Inserted values for title=Thud!, author=Terry Pratchett, year=2005\n",
      "Inserted values for title=The Spellman Files, author=Lisa Lutz, year=2007\n",
      "Inserted values for title=Small Gods, author=Terry Pratchett, year=1992\n"
     ]
    }
   ],
   "source": [
    "# table record insertion\n",
    "\n",
    "def insert(title, author, year, conf=False):\n",
    "    '''Inserts values for title, author, and year into Database book, with optional paramater 'conf' which will print confirmation message\n",
    "    if set to True, default is false.'''\n",
    "    ins = 'INSERT INTO books (title, author, year) VALUES (?, ?, ?)'\n",
    "    booksQuery.execute(ins, (title, author, year))\n",
    "    if conf == True:\n",
    "        print(f'Inserted values for title={title}, author={author}, year={year}')\n",
    "    else:\n",
    "        pass\n",
    "    # in future, would probably put connection.commit() at end of this function\n",
    "        \n",
    "insert('The Weirdstone of Brisingamen','Alan Garner','1960', conf=True)\n",
    "insert('Perdido Street Station','China Miéville','2000', conf=True)\n",
    "insert('Thud!','Terry Pratchett','2005', conf=True)\n",
    "insert('The Spellman Files','Lisa Lutz','2007', conf=True)\n",
    "insert('Small Gods','Terry Pratchett','1992', conf=True) \n",
    "\n"
   ]
  },
  {
   "cell_type": "code",
   "execution_count": 3,
   "metadata": {},
   "outputs": [
    {
     "name": "stdout",
     "output_type": "stream",
     "text": [
      "The records queried from TABLE books are:  [('The Weirdstone of Brisingamen', 'Alan Garner', 1960), ('Perdido Street Station', 'China Miéville', 2000), ('Thud!', 'Terry Pratchett', 2005), ('The Spellman Files', 'Lisa Lutz', 2007), ('Small Gods', 'Terry Pratchett', 1992)]\n"
     ]
    }
   ],
   "source": [
    "# table query to grab all values\n",
    "\n",
    "booksQuery.execute('SELECT * FROM books')\n",
    "rows = booksQuery.fetchall()\n",
    "print('The records queried from TABLE books are: ', rows)\n",
    "\n",
    "# commit changes to database\n",
    "\n",
    "booksdb.commit()\n",
    "\n",
    "# closing cursor object and connection\n",
    "\n",
    "booksQuery.close()\n",
    "booksdb.close()"
   ]
  }
 ],
 "metadata": {
  "kernelspec": {
   "display_name": "Python 3.10.0 64-bit",
   "language": "python",
   "name": "python3"
  },
  "language_info": {
   "codemirror_mode": {
    "name": "ipython",
    "version": 3
   },
   "file_extension": ".py",
   "mimetype": "text/x-python",
   "name": "python",
   "nbconvert_exporter": "python",
   "pygments_lexer": "ipython3",
   "version": "3.10.0"
  },
  "orig_nbformat": 4,
  "vscode": {
   "interpreter": {
    "hash": "467e873f0dda9fd3960b72e40a604d87a4a1ce3947ca6ed6991fc2cd958f247d"
   }
  }
 },
 "nbformat": 4,
 "nbformat_minor": 2
}
