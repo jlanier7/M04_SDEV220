{
 "cells": [
  {
   "cell_type": "markdown",
   "metadata": {},
   "source": [
    "--------------------------------------------------------------------------------------------------------------------------------------------------\n",
    "# Program Name: Book Thing To Do 16.8 - books.db 'title' query with SQLAlchemy\n",
    "  \n",
    "## GitHub Filepath: jlanier7/M04_SDEV220/M04_ProgAssign_16.8.ipynb\n",
    "\n",
    "# Author: Josh Lanier   \n",
    "  \n",
    "## SDEV 220  \n",
    "  \n",
    "## 11/19/22  \n",
    "  \n",
    "Program Purpose: To query table 'books' in SQLite database 'books.db' to return the title column in alphabetical order.\n",
    "  \n",
    "1. Imports\n",
    "\n",
    "    - sqlalchemy as sa  \n",
    "  <br>\n",
    "2. Constants and variables:   \n",
    "\n",
    "    INITIALIZED:\n",
    "\n",
    "    - engine        (engine object)       sqlalchemy engine object, which facilitates connection to the database, and connection\n",
    "                                          pooling\n",
    "    - conn          (connection object)   sqlalchemy connection object, through which queries are executed\n",
    "    \n",
    "    IN-LINE:\n",
    "\n",
    "    - metadate      (MetaData object)     sqlalchemy MetaData object for 'books' table  \n",
    "    - books         (Table object)        sqlalchemy Table object, creating and populating a table object for querying against  \n",
    "    - query         (not sure)            holds a query to run through the execute() function  \n",
    "    - queryResult   (CursorResult object) contains the result of the executed query  \n",
    "    - result        (list)                list of the data returned from the query results    \n",
    "  <br>  \n",
    "3. Inputs\n",
    "\n",
    "    none\n",
    "\n",
    "4. Computations (pseudocode)\n",
    "\n",
    "    import library\n",
    "\n",
    "    create connection to database\n",
    "\n",
    "    transfer existing table into program\n",
    "\n",
    "    construct query FROM books SELECT title\n",
    "\n",
    "    execute query\n",
    "\n",
    "    gather data from query\n",
    "\n",
    "    iterate and print data\n",
    "\n",
    "5. Outputs   \n",
    "\n",
    "    - iterated list of values in title column  \n",
    "    <br>\n",
    "--------------------------------------------------------------------------------------------------------------------------------------------------"
   ]
  },
  {
   "cell_type": "markdown",
   "metadata": {},
   "source": [
    "Initializing connection to database and creating Table object and populating it"
   ]
  },
  {
   "cell_type": "code",
   "execution_count": 1,
   "metadata": {},
   "outputs": [],
   "source": [
    "# importing libraries\n",
    "\n",
    "import sqlalchemy as sa\n",
    "\n",
    "# initializing variables\n",
    "\n",
    "# establishing connection to database and creating engine\n",
    "\n",
    "engine = sa.create_engine('sqlite:///books.db')\n",
    "conn = engine.connect()\n",
    "\n",
    "# creating Table object with table 'books'\n",
    "\n",
    "metadata = sa.MetaData()\n",
    "books = sa.Table('books', metadata, autoload=True, autoload_with=engine)\n",
    "\n"
   ]
  },
  {
   "cell_type": "markdown",
   "metadata": {},
   "source": [
    "Querying the Table 'books' for all in column 'title', then printing results"
   ]
  },
  {
   "cell_type": "code",
   "execution_count": 2,
   "metadata": {},
   "outputs": [
    {
     "name": "stdout",
     "output_type": "stream",
     "text": [
      "The values in the title column are:\n",
      "('The Weirdstone of Brisingamen',)\n",
      "('Perdido Street Station',)\n",
      "('Thud!',)\n",
      "('The Spellman Files',)\n",
      "('Small Gods',)\n"
     ]
    }
   ],
   "source": [
    "# constructing query for column 'title'\n",
    "\n",
    "query = sa.select([books.columns.title])\n",
    "\n",
    "# executing query \n",
    "\n",
    "queryResult = conn.execute(query)\n",
    "# also works as queryResult = conn.execute('SELECT title FROM books ')\n",
    "\n",
    "# fetching data from query \n",
    "\n",
    "result = queryResult.fetchall()\n",
    "\n",
    "# printing data from the query\n",
    "\n",
    "print('The values in the title column are:')\n",
    "for value in result:\n",
    "    print(value)\n"
   ]
  }
 ],
 "metadata": {
  "kernelspec": {
   "display_name": "Python 3.10.0 64-bit",
   "language": "python",
   "name": "python3"
  },
  "language_info": {
   "codemirror_mode": {
    "name": "ipython",
    "version": 3
   },
   "file_extension": ".py",
   "mimetype": "text/x-python",
   "name": "python",
   "nbconvert_exporter": "python",
   "pygments_lexer": "ipython3",
   "version": "3.10.0"
  },
  "orig_nbformat": 4,
  "vscode": {
   "interpreter": {
    "hash": "467e873f0dda9fd3960b72e40a604d87a4a1ce3947ca6ed6991fc2cd958f247d"
   }
  }
 },
 "nbformat": 4,
 "nbformat_minor": 2
}
